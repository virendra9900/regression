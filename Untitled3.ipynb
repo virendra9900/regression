{
  "nbformat": 4,
  "nbformat_minor": 0,
  "metadata": {
    "colab": {
      "provenance": []
    },
    "kernelspec": {
      "name": "python3",
      "display_name": "Python 3"
    },
    "language_info": {
      "name": "python"
    }
  },
  "cells": [
    {
      "cell_type": "markdown",
      "source": [
        "Question 1:What is Simple Linear Regression?\n"
      ],
      "metadata": {
        "id": "qajPyTc96Tt-"
      }
    },
    {
      "cell_type": "markdown",
      "source": [
        "answer:Simple Linear Regression is a statistical technique used to model the relationship between two variables:\n",
        "\n",
        "Independent variable (X): The predictor or input variable.\n",
        "\n",
        "Dependent variable (Y): The response or output variable.\n",
        "\n",
        "\n",
        "It assumes a linear relationship between X and Y, expressed by the equation:\n",
        "\n",
        "Y = \\beta_0 + \\beta_1 X + \\epsilon\n",
        "\n",
        "Where:\n",
        "\n",
        " = intercept,\n",
        "\n",
        " = slope (effect of X on Y),\n",
        "\n",
        " = error term.\n",
        "\n",
        "\n",
        "The goal is to find the best-fitting straight line that minimizes the difference between the observed values and the predicted values using the least squares method.\n",
        "\n",
        "\n"
      ],
      "metadata": {
        "id": "ccwV00Sm7qn_"
      }
    },
    {
      "cell_type": "markdown",
      "source": [
        "Question 2: What are the key assumptions of Simple Linear Regression?\n",
        "\n"
      ],
      "metadata": {
        "id": "WBQOBYoc8Nez"
      }
    },
    {
      "cell_type": "markdown",
      "source": [
        "Answer:\n",
        "The key assumptions of Simple Linear Regression are:\n",
        "\n",
        "1. Linearity – The relationship between the independent and dependent variable is linear.\n",
        "\n",
        "\n",
        "2. Independence – Observations are independent of each other.\n",
        "\n",
        "\n",
        "3. Homoscedasticity – The variance of residuals (errors) is constant across all levels of X.\n",
        "\n",
        "\n",
        "4. Normality of Errors – The residuals are normally distributed.\n",
        "\n",
        "\n",
        "5. No Multicollinearity – Since only one predictor is used, this does not apply here, but in multiple regression, predictors should not be highly correlated.\n",
        "\n",
        "\n",
        "\n",
        "When these assumptions are met, the regression model produces unbiased and reliable estimates.\n",
        "\n"
      ],
      "metadata": {
        "id": "OB2WGg-V8PHt"
      }
    },
    {
      "cell_type": "markdown",
      "source": [
        "Question 3: What is heteroscedasticity, and why is it important to address in regression models?\n",
        "\n"
      ],
      "metadata": {
        "id": "r5G4vJU98OOD"
      }
    },
    {
      "cell_type": "markdown",
      "source": [
        "Answer:\n",
        "Heteroscedasticity refers to the situation where the variance of residuals (errors) is not constant across all levels of the independent variable(s). Instead, the spread of errors increases or decreases with X values.\n",
        "\n",
        "Example: In income vs. expenditure data, higher-income individuals may show more variation in spending compared to lower-income individuals.\n",
        "\n",
        "\n",
        "Why it is important to address:\n",
        "\n",
        "1. It violates the assumption of constant variance (homoscedasticity).\n",
        "\n",
        "\n",
        "2. It can lead to inefficient estimates of regression coefficients.\n",
        "\n",
        "\n",
        "3. Standard errors become unreliable, which affects hypothesis testing and confidence intervals.\n",
        "\n",
        "\n",
        "4. It increases the chances of Type I and Type II errors in statistical inference.\n",
        "\n",
        "\n",
        "\n",
        "Solutions include: log transformation, weighted least squares, or using robust standard errors.\n"
      ],
      "metadata": {
        "id": "lv0bOTSz8sxg"
      }
    },
    {
      "cell_type": "markdown",
      "source": [
        "Question 4: What is Multiple Linear Regression?\n",
        "\n"
      ],
      "metadata": {
        "id": "4Gpfmdub8suI"
      }
    },
    {
      "cell_type": "markdown",
      "source": [
        "Answer:\n",
        "Multiple Linear Regression (MLR) is an extension of Simple Linear Regression where two or more independent variables (X₁, X₂, X₃ …) are used to predict a single dependent variable (Y).\n",
        "\n",
        "The general form of the model is:\n",
        "\n",
        "Y = \\beta_0 + \\beta_1 X_1 + \\beta_2 X_2 + ... + \\beta_n X_n + \\epsilon\n",
        "\n",
        "Where:\n",
        "\n",
        " = intercept,\n",
        "\n",
        " = coefficients showing the effect of each predictor,\n",
        "\n",
        " = error term.\n",
        "\n",
        "\n",
        "Uses:\n",
        "\n",
        "Helps understand the combined effect of multiple factors on an outcome.\n",
        "\n",
        "Provides better predictions compared to a single predictor model.\n",
        "\n",
        "\n",
        "Example: Predicting house prices using predictors like square footage, number of bedrooms, and location.\n",
        "\n",
        "\n"
      ],
      "metadata": {
        "id": "hgd8tz7j8srb"
      }
    },
    {
      "cell_type": "markdown",
      "source": [
        "Question 5: What is polynomial regression, and how does it differ from linear regression?\n",
        "\n"
      ],
      "metadata": {
        "id": "RWc_pijl9NCE"
      }
    },
    {
      "cell_type": "markdown",
      "source": [
        "Answer:\n",
        "Polynomial Regression is a form of regression analysis where the relationship between the independent variable (X) and dependent variable (Y) is modeled as an nth-degree polynomial.\n",
        "\n",
        "Equation for quadratic polynomial regression:\n",
        "\n",
        "Y = \\beta_0 + \\beta_1 X + \\beta_2 X^2 + \\epsilon\n",
        "\n",
        "Difference from Linear Regression:\n",
        "\n",
        "Linear Regression assumes a straight-line relationship.\n",
        "\n",
        "Polynomial Regression allows for curved relationships, making it more flexible for modeling non-linear patterns.\n",
        "\n",
        "\n",
        "Example:\n",
        "\n",
        "Linear: predicting height based on age in early childhood (straight-line growth).\n",
        "\n",
        "Polynomial: predicting height across the full lifespan, where growth is rapid, slows down, and eventually declines (curved relationship).\n",
        "\n",
        "\n"
      ],
      "metadata": {
        "id": "agzTpaYg9M-o"
      }
    },
    {
      "cell_type": "markdown",
      "source": [
        "Question 6: Implement a Python program to fit a Simple Linear Regression model to the following sample data. Plot the regression line.\n",
        "\n",
        "Data:\n",
        "\n",
        "X = [1, 2, 3, 4, 5]\n",
        "Y = [2.1, 4.3, 6.1, 7.9, 10.2]\n"
      ],
      "metadata": {
        "id": "aoKeaCpw9M8L"
      }
    },
    {
      "cell_type": "code",
      "source": [
        "import numpy as np\n",
        "import matplotlib.pyplot as plt\n",
        "from sklearn.linear_model import LinearRegression\n",
        "\n",
        "# Data\n",
        "X = np.array([1, 2, 3, 4, 5]).reshape(-1, 1)\n",
        "Y = np.array([2.1, 4.3, 6.1, 7.9, 10.2])\n",
        "\n",
        "# Model\n",
        "model = LinearRegression()\n",
        "model.fit(X, Y)\n",
        "\n",
        "# Predictions\n",
        "Y_pred = model.predict(X)\n",
        "\n",
        "# Print coefficients\n",
        "print(\"Intercept:\", model.intercept_)\n",
        "print(\"Slope:\", model.coef_[0])\n",
        "\n",
        "# Plot\n",
        "plt.scatter(X, Y, color='blue', label=\"Data points\")\n",
        "plt.plot(X, Y_pred, color='red', label=\"Regression line\")\n",
        "plt.xlabel(\"X\")\n",
        "plt.ylabel(\"Y\")\n",
        "plt.title(\"Simple Linear Regression\")\n",
        "plt.legend()\n",
        "plt.show()\n"
      ],
      "metadata": {
        "colab": {
          "base_uri": "https://localhost:8080/",
          "height": 507
        },
        "id": "VKsfZhes-Cze",
        "outputId": "b3696886-f1c2-4fc6-bd28-8efd3e49fc1e"
      },
      "execution_count": 1,
      "outputs": [
        {
          "output_type": "stream",
          "name": "stdout",
          "text": [
            "Intercept: 0.17999999999999794\n",
            "Slope: 1.9800000000000004\n"
          ]
        },
        {
          "output_type": "display_data",
          "data": {
            "text/plain": [
              "<Figure size 640x480 with 1 Axes>"
            ],
            "image/png": "[encoded data removed]"
          },
          "metadata": {}
        }
      ]
    },
    {
      "cell_type": "markdown",
      "source": [
        "Question 7: Fit a Multiple Linear Regression model on this data and check multicollinearity using VIF.\n",
        "Data:\n",
        "\n",
        "Area = [1200, 1500, 1800, 2000]\n",
        "Rooms = [2, 3, 3, 4]\n",
        "Price = [250000, 300000, 320000, 370000]\n",
        "\n"
      ],
      "metadata": {
        "id": "nRx9-lsg9M5t"
      }
    },
    {
      "cell_type": "code",
      "source": [
        "#Answer:\n",
        "\n",
        "import pandas as pd\n",
        "from sklearn.linear_model import LinearRegression\n",
        "from statsmodels.stats.outliers_influence import variance_inflation_factor\n",
        "\n",
        "# Data\n",
        "data = pd.DataFrame({\n",
        "    \"Area\": [1200, 1500, 1800, 2000],\n",
        "    \"Rooms\": [2, 3, 3, 4],\n",
        "    \"Price\": [250000, 300000, 320000, 370000]\n",
        "})\n",
        "\n",
        "X = data[[\"Area\", \"Rooms\"]]\n",
        "y = data[\"Price\"]\n",
        "\n",
        "# Model\n",
        "model = LinearRegression()\n",
        "model.fit(X, y)\n",
        "\n",
        "print(\"Intercept:\", model.intercept_)\n",
        "print(\"Coefficients:\", model.coef_)\n",
        "\n",
        "# VIF check\n",
        "vif_data = pd.DataFrame()\n",
        "vif_data[\"Feature\"] = X.columns\n",
        "vif_data[\"VIF\"] = [variance_inflation_factor(X.values, i) for i in range(X.shape[1])]\n",
        "print(vif_data)\n"
      ],
      "metadata": {
        "colab": {
          "base_uri": "https://localhost:8080/"
        },
        "id": "U3yfU2Mt-i5p",
        "outputId": "eef50b25-b37c-4e4d-b2f3-8df616837671"
      },
      "execution_count": 2,
      "outputs": [
        {
          "output_type": "stream",
          "name": "stdout",
          "text": [
            "Intercept: 103157.89473684214\n",
            "Coefficients: [   63.15789474 34736.84210526]\n",
            "  Feature         VIF\n",
            "0    Area  127.796923\n",
            "1   Rooms  127.796923\n"
          ]
        }
      ]
    },
    {
      "cell_type": "markdown",
      "source": [
        "\n",
        "Question 8: Implement polynomial regression on the following data. Fit a 2nd-degree polynomial and plot the curve.\n",
        "\n",
        "Data:\n",
        "\n",
        "X = [1, 2, 3, 4, 5]\n",
        "Y = [2.2, 4.8, 7.5, 11.2, 14.7]\n",
        "\n"
      ],
      "metadata": {
        "id": "SgtuRP059M3Y"
      }
    },
    {
      "cell_type": "code",
      "source": [
        "#Answer:\n",
        "\n",
        "from sklearn.preprocessing import PolynomialFeatures\n",
        "\n",
        "# Data\n",
        "X = np.array([1, 2, 3, 4, 5]).reshape(-1, 1)\n",
        "Y = np.array([2.2, 4.8, 7.5, 11.2, 14.7])\n",
        "\n",
        "# Polynomial transformation\n",
        "poly = PolynomialFeatures(degree=2)\n",
        "X_poly = poly.fit_transform(X)\n",
        "\n",
        "# Model\n",
        "model = LinearRegression()\n",
        "model.fit(X_poly, Y)\n",
        "\n",
        "# Predictions\n",
        "Y_pred = model.predict(X_poly)\n",
        "\n",
        "# Print coefficients\n",
        "print(\"Intercept:\", model.intercept_)\n",
        "print(\"Coefficients:\", model.coef_)\n",
        "\n",
        "# Plot\n",
        "plt.scatter(X, Y, color='blue', label=\"Data points\")\n",
        "plt.plot(X, Y_pred, color='red', label=\"Polynomial regression curve\")\n",
        "plt.xlabel(\"X\")\n",
        "plt.ylabel(\"Y\")\n",
        "plt.title(\"Polynomial Regression (Degree 2)\")\n",
        "plt.legend()\n",
        "plt.show()\n"
      ],
      "metadata": {
        "colab": {
          "base_uri": "https://localhost:8080/",
          "height": 507
        },
        "id": "JeVbmtEf-7xJ",
        "outputId": "677d3b3e-c440-4340-f958-886c0e6ed0ec"
      },
      "execution_count": 3,
      "outputs": [
        {
          "output_type": "stream",
          "name": "stdout",
          "text": [
            "Intercept: 0.06000000000000938\n",
            "Coefficients: [0.   1.94 0.2 ]\n"
          ]
        },
        {
          "output_type": "display_data",
          "data": {
            "text/plain": [
              "<Figure size 640x480 with 1 Axes>"
            ],
            "image/png": "[encoded data removed]"
          },
          "metadata": {}
        }
      ]
    },
    {
      "cell_type": "markdown",
      "source": [
        "Question 9: Create a residuals plot for a regression model trained on this data and assess heteroscedasticity.\n",
        "\n",
        "Data:\n",
        "\n",
        "X = [10, 20, 30, 40, 50]\n",
        "Y = [15, 35, 40, 50, 65]\n"
      ],
      "metadata": {
        "id": "lezrsRl29M0c"
      }
    },
    {
      "cell_type": "code",
      "source": [
        "#Answer:\n",
        "\n",
        "# Data\n",
        "X = np.array([10, 20, 30, 40, 50]).reshape(-1, 1)\n",
        "Y = np.array([15, 35, 40, 50, 65])\n",
        "\n",
        "# Model\n",
        "model = LinearRegression()\n",
        "model.fit(X, Y)\n",
        "Y_pred = model.predict(X)\n",
        "\n",
        "# Residuals\n",
        "residuals = Y - Y_pred\n",
        "\n",
        "# Plot residuals\n",
        "plt.scatter(X, residuals, color='purple')\n",
        "plt.axhline(y=0, color='black', linestyle='--')\n",
        "plt.xlabel(\"X\")\n",
        "plt.ylabel(\"Residuals\")\n",
        "plt.title(\"Residual Plot\")\n",
        "plt.show()\n"
      ],
      "metadata": {
        "colab": {
          "base_uri": "https://localhost:8080/",
          "height": 472
        },
        "id": "aTj23VNK_f5T",
        "outputId": "a770ba2c-9b81-4a2d-d8e4-80c491382cff"
      },
      "execution_count": 4,
      "outputs": [
        {
          "output_type": "display_data",
          "data": {
            "text/plain": [
              "<Figure size 640x480 with 1 Axes>"
            ],
            "image/png": "[encoded data removed]"
          },
          "metadata": {}
        }
      ]
    },
    {
      "cell_type": "markdown",
      "source": [
        "Question 10\n",
        "\n",
        "Imagine you are a data scientist working for a real estate company. You need to predict house prices using features like area, number of rooms, and location. However, you detect heteroscedasticity and multicollinearity in your regression model. Explain the steps you would take to address these issues and ensure a robust model.\n",
        "\n"
      ],
      "metadata": {
        "id": "yoXzZhGt9Mxv"
      }
    },
    {
      "cell_type": "markdown",
      "source": [
        " Answer\n",
        "\n",
        "When building a regression model, two key problems can arise:\n",
        "\n",
        "1. Heteroscedasticity (non-constant variance of residuals)\n",
        "\n",
        "Detection: Check residual plots or use statistical tests (e.g., Breusch–Pagan test, White’s test).\n",
        "\n",
        "Solutions:\n",
        "\n",
        "Apply logarithmic or Box–Cox transformations to stabilize variance.\n",
        "\n",
        "Use weighted least squares (WLS) to give less weight to observations with high variance.\n",
        "\n",
        "Switch to robust regression methods (e.g., Huber regression, quantile regression).\n",
        "\n",
        "\n",
        "\n",
        "2. Multicollinearity (high correlation among independent variables)\n",
        "\n",
        "Detection:\n",
        "\n",
        "Calculate Variance Inflation Factor (VIF); VIF > 10 indicates strong multicollinearity.\n",
        "\n",
        "Check correlation matrix/heatmap between features.\n",
        "\n",
        "\n",
        "Solutions:\n",
        "\n",
        "Remove or combine highly correlated variables (e.g., area and number of rooms may overlap).\n",
        "\n",
        "Apply Principal Component Analysis (PCA) or dimensionality reduction.\n",
        "\n",
        "Use regularization techniques such as Ridge Regression or Lasso Regression, which shrink coefficients and reduce instability.\n",
        "\n",
        "\n",
        "\n",
        "3. Final Steps to Ensure a Robust Model\n",
        "\n",
        "Normalize or standardize numerical features.\n",
        "\n",
        "Validate the model with cross-validation.\n",
        "\n",
        "Compare different models (linear regression, decision trees, random forests, gradient boosting).\n",
        "\n",
        "Monitor model performance using RMSE, MAE, R² and ensure generalization.\n",
        "\n",
        "\n",
        "\n",
        " In short:\n",
        "\n",
        "Fix heteroscedasticity with transformations or robust regression.\n",
        "\n",
        "Fix multicollinearity with feature selection, PCA, or regularization.\n",
        "\n",
        "Validate thoroughly to ensure stability and reliability.\n",
        "\n",
        "\n",
        "\n"
      ],
      "metadata": {
        "id": "vX-SdGzH9MvC"
      }
    }
  ]
}